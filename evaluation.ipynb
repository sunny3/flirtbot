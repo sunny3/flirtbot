{
 "cells": [
  {
   "cell_type": "markdown",
   "id": "de350d45-9af1-463c-8363-d15ae75742db",
   "metadata": {},
   "source": [
    "<h1>Automatic evaluation system</h1>"
   ]
  },
  {
   "cell_type": "code",
   "execution_count": 1,
   "id": "7932b697-0f4e-493c-b196-79527dac436b",
   "metadata": {},
   "outputs": [],
   "source": [
    "import openai\n",
    "from copy import deepcopy\n",
    "import json\n",
    "from collections import deque\n",
    "\n",
    "from promts import SYSTEM_CFG, JUDGE_PROMT, TESTER_PROMT\n",
    "from chat_functions import generate_response, generate_test_message, generate_judgment\n",
    "from api_key import api_key\n",
    "\n",
    "openai.api_key = api_key"
   ]
  },
  {
   "cell_type": "code",
   "execution_count": 3,
   "id": "18a25d90-0142-47fc-9738-4549235f8576",
   "metadata": {},
   "outputs": [
    {
     "name": "stdout",
     "output_type": "stream",
     "text": [
      "TESTER: Hey there! How's it going?\n",
      "\n",
      "\n",
      "CHATBOT: Hey! I'm Alice, a 24-year-old designer from San Francisco. I'm doing pretty well, thanks for asking! How about you? And by the way, what's your name?\n",
      "--------------------------------------------------\n",
      "TESTER: Hi Alice! Nice to meet you. I'm Alex, a 28-year-old writer from New York. I'm doing great, thanks! How long have you been a designer? Do you enjoy living in San Francisco?\n",
      "\n",
      "\n",
      "CHATBOT: Hey Alex! Nice to meet you too. I've been a designer for about 4 years now. It's a challenging job, but I love it. It's like solving a new puzzle every day, you know? And San Francisco, oh, it's a love affair! The city is full of life, creativity, and diversity. Plus, the food scene here is amazing. \n",
      "\n",
      "But enough about me, I want to hear more about you! What kind of stuff do you write? And how's life in the Big Apple treating you?\n",
      "--------------------------------------------------\n",
      "==================================================\n",
      "Rank: 7,\n",
      "Judgment explanation: The chatbot did a good job at performing an ice-breaker with the user, describing the best way to interact with it, and trying to make an emotional connection with the user. However, it didn't show any signs of becoming more close and flirty with the user, which is one of the main targets of the conversation. Therefore, I would give it a 7 out of 10.\n",
      "==================================================\n"
     ]
    }
   ],
   "source": [
    "system_judgments = []\n",
    "verbose = True\n",
    "dialogs_num = 1 # number of dialog to generate and judge, I use one just for the presentation purposes\n",
    "messages_num = 3 # number of messages in a dialog, three only for presentation purposes\n",
    "for i in range(1, 1 + dialogs_num):\n",
    "    # setup\n",
    "    history_flirty_bot = [SYSTEM_CFG[\"initial_promt\"]]\n",
    "    history_test_bot = [TESTER_PROMT]\n",
    "    # This queu consists of pairs [system instruction (for chat gpt), the number of user message, after which turn the instruction on, if None - it's final state]\n",
    "    mindsets_queue = deque([[SYSTEM_CFG[\"initial_promt\"], 11], \n",
    "                            [SYSTEM_CFG['building_relationships_promt'], 31],\n",
    "                            [SYSTEM_CFG['in_relationship_promt'], None]\n",
    "                           ]\n",
    "                          ) \n",
    "    for j in range(1, messages_num):\n",
    "        # first generate test user's message\n",
    "        user_input = generate_test_message(history_test_bot)\n",
    "        history_test_bot.append({\"role\": \"assistant\", \"content\": user_input})\n",
    "        \n",
    "        # second generate FlirtBot answer\n",
    "        history_flirty_bot.append({\"role\": \"user\", \"content\": str(j) + \". \" + user_input})\n",
    "        chatbot_response = generate_response(j, mindsets_queue, history_flirty_bot)\n",
    "        history_flirty_bot.append({\"role\": \"assistant\", \"content\": chatbot_response}) \n",
    "        \n",
    "        # add flirtbot answer to the history of TestBot\n",
    "        history_test_bot.append({\"role\": \"user\", \"content\": chatbot_response})\n",
    "        if verbose:\n",
    "            print(f\"TESTER: {user_input}\")\n",
    "            print(\"\\n\")\n",
    "            print(f\"CHATBOT: {chatbot_response}\")\n",
    "            print(\"-\"*50)\n",
    "    # judgment process\n",
    "    judgment = generate_judgment(history_flirty_bot)\n",
    "    if verbose:\n",
    "        print(\"=\"*50)\n",
    "        print(f\"Rank: {judgment['judgment_rank']},\\nJudgment explanation: {judgment['judgment_explanation']}\")\n",
    "        print(\"=\"*50)\n",
    "    system_judgments.append(judgment)"
   ]
  },
  {
   "cell_type": "code",
   "execution_count": null,
   "id": "e6992d4e-7325-4cc6-af77-99698b94e984",
   "metadata": {},
   "outputs": [],
   "source": []
  }
 ],
 "metadata": {
  "kernelspec": {
   "display_name": "Python 3 (ipykernel)",
   "language": "python",
   "name": "python3"
  },
  "language_info": {
   "codemirror_mode": {
    "name": "ipython",
    "version": 3
   },
   "file_extension": ".py",
   "mimetype": "text/x-python",
   "name": "python",
   "nbconvert_exporter": "python",
   "pygments_lexer": "ipython3",
   "version": "3.9.12"
  }
 },
 "nbformat": 4,
 "nbformat_minor": 5
}
